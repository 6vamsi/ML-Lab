{
  "nbformat": 4,
  "nbformat_minor": 0,
  "metadata": {
    "colab": {
      "provenance": [],
      "include_colab_link": true
    },
    "kernelspec": {
      "name": "python3",
      "display_name": "Python 3"
    },
    "language_info": {
      "name": "python"
    }
  },
  "cells": [
    {
      "cell_type": "markdown",
      "metadata": {
        "id": "view-in-github",
        "colab_type": "text"
      },
      "source": [
        "<a href=\"https://colab.research.google.com/github/6vamsi/ML-Lab/blob/main/ML_Lab12.ipynb\" target=\"_parent\"><img src=\"https://colab.research.google.com/assets/colab-badge.svg\" alt=\"Open In Colab\"/></a>"
      ]
    },
    {
      "cell_type": "markdown",
      "source": [
        "**Exploratory Data Analysis(EDA):**\n",
        "\n",
        "Exploratory Data Analysis (EDA) is a crucial initial step in data science projects. It involves analyzing and visualizing data to understand its key characteristics, uncover patterns, and identify relationships between variables refers to the method of studying and exploring record sets to apprehend their predominant traits, discover patterns, locate outliers, and identify relationships between variables. EDA is normally carried out as a preliminary step before undertaking extra formal statistical analyses or modeling."
      ],
      "metadata": {
        "id": "gtnAH2bSBCpA"
      }
    },
    {
      "cell_type": "markdown",
      "source": [
        "**Key aspects of EDA include:**\n",
        "\n",
        "**Distribution of Data:** Examining the distribution of data points to understand their range, central tendencies (mean, median), and dispersion (variance, standard deviation).\n",
        "\n",
        "**Graphical Representations:** Utilizing charts such as histograms, box plots, scatter plots, and bar charts to visualize relationships within the data and distributions of variables.\n",
        "\n",
        "**Outlier Detection:** Identifying unusual values that deviate from other data points. Outliers can influence statistical analyses and might indicate data entry errors or unique cases.\n",
        "\n",
        "**Correlation Analysis:** Checking the relationships between variables to understand how they might affect each other. This includes computing correlation coefficients and creating correlation matrices.\n",
        "\n",
        "**Handling Missing Values:** Detecting and deciding how to address missing data points, whether by imputation or removal, depending on their impact and the amount of missing data.\n",
        "\n",
        "**Summary Statistics:** Calculating key statistics that provide insight into data trends and nuances.\n",
        "\n",
        "**Testing Assumptions:** Many statistical tests and models assume the data meet certain conditions (like normality or homoscedasticity). EDA helps verify these assumptions"
      ],
      "metadata": {
        "id": "yae8mPQ2C39H"
      }
    },
    {
      "cell_type": "markdown",
      "source": [],
      "metadata": {
        "id": "i7sTpKv0DikY"
      }
    },
    {
      "cell_type": "markdown",
      "source": [
        "### **12. Exploratory Data Analysis for Classification using Pandas or Matplotlib.**"
      ],
      "metadata": {
        "id": "LBTCr1rIqh65"
      }
    },
    {
      "cell_type": "code",
      "source": [
        "import pandas as pd\n",
        "\n",
        "# Load the dataset\n",
        "data = pd.read_csv('/content/Lab13.csv')\n",
        "\n"
      ],
      "metadata": {
        "id": "ftfSRznOqrLQ"
      },
      "execution_count": 6,
      "outputs": []
    },
    {
      "cell_type": "code",
      "source": [
        "# Get summary statistics for numerical columns\n",
        "print(data.describe())\n"
      ],
      "metadata": {
        "colab": {
          "base_uri": "https://localhost:8080/"
        },
        "id": "Tch0U-5Tqq_Q",
        "outputId": "64c174b8-6098-4e96-a067-de4a475730e9"
      },
      "execution_count": 7,
      "outputs": [
        {
          "output_type": "stream",
          "name": "stdout",
          "text": [
            "             age       sex        cp    trestbps        chol       fbs  \\\n",
            "count   6.000000  6.000000  6.000000    6.000000    6.000000  6.000000   \n",
            "mean   60.000000  0.666667  3.166667  137.500000  237.666667  0.166667   \n",
            "std     9.715966  0.516398  1.329160   14.053469   33.134071  0.408248   \n",
            "min    41.000000  0.000000  1.000000  120.000000  204.000000  0.000000   \n",
            "25%    60.500000  0.250000  2.500000  130.000000  211.750000  0.000000   \n",
            "50%    62.500000  1.000000  4.000000  135.000000  231.000000  0.000000   \n",
            "75%    66.000000  1.000000  4.000000  143.750000  259.250000  0.000000   \n",
            "max    67.000000  1.000000  4.000000  160.000000  286.000000  1.000000   \n",
            "\n",
            "       restecg     thalach     exang   oldpeak     slope        ca      thal  \\\n",
            "count      6.0    6.000000  6.000000  6.000000  6.000000  6.000000  6.000000   \n",
            "mean       2.0  141.833333  0.500000  2.300000  2.166667  1.500000  4.333333   \n",
            "std        0.0   23.293060  0.547723  0.804984  0.752773  1.224745  1.751190   \n",
            "min        2.0  108.000000  0.000000  1.400000  1.000000  0.000000  3.000000   \n",
            "25%        2.0  129.750000  0.000000  1.700000  2.000000  0.500000  3.000000   \n",
            "50%        2.0  141.000000  0.500000  2.350000  2.000000  2.000000  3.500000   \n",
            "75%        2.0  157.500000  1.000000  2.550000  2.750000  2.000000  5.500000   \n",
            "max        2.0  172.000000  1.000000  3.600000  3.000000  3.000000  7.000000   \n",
            "\n",
            "       Heartdisease  \n",
            "count      6.000000  \n",
            "mean       1.666667  \n",
            "std        1.632993  \n",
            "min        0.000000  \n",
            "25%        0.250000  \n",
            "50%        1.500000  \n",
            "75%        2.750000  \n",
            "max        4.000000  \n"
          ]
        }
      ]
    },
    {
      "cell_type": "code",
      "source": [
        "# Display all column names in the dataset\n",
        "print(data.columns)\n"
      ],
      "metadata": {
        "colab": {
          "base_uri": "https://localhost:8080/"
        },
        "id": "j1ozNw7h8TaG",
        "outputId": "8448d2a5-55be-4478-e72f-b4c8e72e6a4e"
      },
      "execution_count": 8,
      "outputs": [
        {
          "output_type": "stream",
          "name": "stdout",
          "text": [
            "Index(['age', 'sex', 'cp', 'trestbps', 'chol', 'fbs', 'restecg', 'thalach',\n",
            "       'exang', 'oldpeak', 'slope', 'ca', 'thal', 'Heartdisease'],\n",
            "      dtype='object')\n"
          ]
        }
      ]
    },
    {
      "cell_type": "code",
      "source": [
        "# Import necessary libraries\n",
        "import pandas as pd\n",
        "import matplotlib.pyplot as plt\n",
        "import seaborn as sns\n",
        "\n",
        "# Load the dataset\n",
        "data = pd.read_csv('/content/Lab13.csv')\n",
        "\n",
        "# Set a visual style for the plots\n",
        "sns.set(style=\"whitegrid\")\n",
        "\n",
        "# 1. Basic Information and Summary Statistics\n",
        "print(data.info())  # Overview of dataset structure\n",
        "print(data.describe())  # Summary statistics for numerical features\n",
        "print(data.head())  # Peek at the first few rows of the dataset\n"
      ],
      "metadata": {
        "colab": {
          "base_uri": "https://localhost:8080/"
        },
        "id": "-tEOJSbWqqwI",
        "outputId": "a0c1b87d-f2e2-4987-c92b-753aea672c39"
      },
      "execution_count": 11,
      "outputs": [
        {
          "output_type": "stream",
          "name": "stdout",
          "text": [
            "<class 'pandas.core.frame.DataFrame'>\n",
            "RangeIndex: 6 entries, 0 to 5\n",
            "Data columns (total 14 columns):\n",
            " #   Column        Non-Null Count  Dtype  \n",
            "---  ------        --------------  -----  \n",
            " 0   age           6 non-null      int64  \n",
            " 1   sex           6 non-null      int64  \n",
            " 2   cp            6 non-null      int64  \n",
            " 3   trestbps      6 non-null      int64  \n",
            " 4   chol          6 non-null      int64  \n",
            " 5   fbs           6 non-null      int64  \n",
            " 6   restecg       6 non-null      int64  \n",
            " 7   thalach       6 non-null      int64  \n",
            " 8   exang         6 non-null      int64  \n",
            " 9   oldpeak       6 non-null      float64\n",
            " 10  slope         6 non-null      int64  \n",
            " 11  ca            6 non-null      int64  \n",
            " 12  thal          6 non-null      int64  \n",
            " 13  Heartdisease  6 non-null      int64  \n",
            "dtypes: float64(1), int64(13)\n",
            "memory usage: 800.0 bytes\n",
            "None\n",
            "             age       sex        cp    trestbps        chol       fbs  \\\n",
            "count   6.000000  6.000000  6.000000    6.000000    6.000000  6.000000   \n",
            "mean   60.000000  0.666667  3.166667  137.500000  237.666667  0.166667   \n",
            "std     9.715966  0.516398  1.329160   14.053469   33.134071  0.408248   \n",
            "min    41.000000  0.000000  1.000000  120.000000  204.000000  0.000000   \n",
            "25%    60.500000  0.250000  2.500000  130.000000  211.750000  0.000000   \n",
            "50%    62.500000  1.000000  4.000000  135.000000  231.000000  0.000000   \n",
            "75%    66.000000  1.000000  4.000000  143.750000  259.250000  0.000000   \n",
            "max    67.000000  1.000000  4.000000  160.000000  286.000000  1.000000   \n",
            "\n",
            "       restecg     thalach     exang   oldpeak     slope        ca      thal  \\\n",
            "count      6.0    6.000000  6.000000  6.000000  6.000000  6.000000  6.000000   \n",
            "mean       2.0  141.833333  0.500000  2.300000  2.166667  1.500000  4.333333   \n",
            "std        0.0   23.293060  0.547723  0.804984  0.752773  1.224745  1.751190   \n",
            "min        2.0  108.000000  0.000000  1.400000  1.000000  0.000000  3.000000   \n",
            "25%        2.0  129.750000  0.000000  1.700000  2.000000  0.500000  3.000000   \n",
            "50%        2.0  141.000000  0.500000  2.350000  2.000000  2.000000  3.500000   \n",
            "75%        2.0  157.500000  1.000000  2.550000  2.750000  2.000000  5.500000   \n",
            "max        2.0  172.000000  1.000000  3.600000  3.000000  3.000000  7.000000   \n",
            "\n",
            "       Heartdisease  \n",
            "count      6.000000  \n",
            "mean       1.666667  \n",
            "std        1.632993  \n",
            "min        0.000000  \n",
            "25%        0.250000  \n",
            "50%        1.500000  \n",
            "75%        2.750000  \n",
            "max        4.000000  \n",
            "   age  sex  cp  trestbps  chol  fbs  restecg  thalach  exang  oldpeak  slope  \\\n",
            "0   63    1   1       145   233    1        2      150      0      2.3      3   \n",
            "1   67    1   4       160   286    0        2      108      1      1.5      2   \n",
            "2   67    1   4       120   229    0        2      129      1      2.6      2   \n",
            "3   41    0   2       130   204    0        2      172      0      1.4      1   \n",
            "4   62    0   4       140   268    0        2      160      0      3.6      3   \n",
            "\n",
            "   ca  thal  Heartdisease  \n",
            "0   0     6             0  \n",
            "1   3     3             2  \n",
            "2   2     7             1  \n",
            "3   0     3             0  \n",
            "4   2     3             3  \n"
          ]
        }
      ]
    },
    {
      "cell_type": "code",
      "source": [
        "# Check for missing values\n",
        "print(data.isnull().sum())\n",
        "\n",
        "# If there are missing values, you can visualize them (optional)\n",
        "sns.heatmap(data.isnull(), cbar=False, cmap='viridis')\n",
        "plt.title('Missing Values in the Dataset')\n",
        "plt.show()\n"
      ],
      "metadata": {
        "id": "18zmgI-oBQrS"
      },
      "execution_count": null,
      "outputs": []
    },
    {
      "cell_type": "code",
      "source": [
        "# Summary of numerical features\n",
        "print(data.describe())\n",
        "\n",
        "# Plot histograms of numerical features\n",
        "data.hist(figsize=(15, 10), bins=30)\n",
        "plt.tight_layout()\n",
        "plt.show()\n"
      ],
      "metadata": {
        "id": "qMMzxdtgBdS_"
      },
      "execution_count": null,
      "outputs": []
    },
    {
      "cell_type": "code",
      "source": [
        "# 2. Plot the distribution of the target variable (OUTCOME)\n",
        "plt.figure(figsize=(8,6))\n",
        "sns.countplot(data=data, x='OUTCOME')\n",
        "plt.title('Distribution of Outcome (Target Variable)')\n",
        "plt.xlabel('Outcome (0 = No Claim, 1 = Claim)')\n",
        "plt.ylabel('Count')\n",
        "plt.show()"
      ],
      "metadata": {
        "id": "VYwdPBpCqqs6"
      },
      "execution_count": null,
      "outputs": []
    },
    {
      "cell_type": "code",
      "source": [
        "# Plot the distribution of age groups and outcome\n",
        "plt.figure(figsize=(10,6))\n",
        "sns.countplot(data=data, x='AGE', hue='OUTCOME')\n",
        "plt.title('Age Distribution by Outcome')\n",
        "plt.xlabel('Age Group')\n",
        "plt.ylabel('Count')\n",
        "plt.show()\n",
        "\n",
        "# Plot the distribution of vehicle types and outcome\n",
        "plt.figure(figsize=(10,6))\n",
        "sns.countplot(data=data, x='TYPE_OF_VEHICLE', hue='OUTCOME')\n",
        "plt.title('Vehicle Type by Outcome')\n",
        "plt.xlabel('Vehicle Type')\n",
        "plt.ylabel('Count')\n",
        "plt.show()\n",
        "\n",
        "# Plot distribution of gender and outcome\n",
        "plt.figure(figsize=(8,6))\n",
        "sns.countplot(data=data, x='GENDER', hue='OUTCOME')\n",
        "plt.title('Gender Distribution by Outcome')\n",
        "plt.xlabel('Gender')\n",
        "plt.ylabel('Count')\n",
        "plt.show()\n"
      ],
      "metadata": {
        "id": "RKc26CMRBu0i"
      },
      "execution_count": null,
      "outputs": []
    },
    {
      "cell_type": "code",
      "source": [
        "# Exclude non-numeric columns before calculating the correlation matrix\n",
        "numeric_data = data.select_dtypes(include=['float64', 'int64'])\n",
        "\n",
        "# 4. Analyze the correlation between numerical features\n",
        "plt.figure(figsize=(12,8))\n",
        "corr = numeric_data.corr()  # Compute correlation matrix only on numeric columns\n",
        "sns.heatmap(corr, annot=True, cmap=\"coolwarm\", fmt=\".2f\")\n",
        "plt.title('Correlation Heatmap of Numerical Features')\n",
        "plt.show()"
      ],
      "metadata": {
        "id": "XCHG4Bn7Acm3"
      },
      "execution_count": null,
      "outputs": []
    },
    {
      "cell_type": "code",
      "source": [
        "# 5. Relationship between Credit Score and Outcome\n",
        "plt.figure(figsize=(8,6))\n",
        "sns.histplot(data=data, x='CREDIT_SCORE', hue='OUTCOME', multiple=\"stack\", kde=True)\n",
        "plt.title('Credit Score Distribution by Outcome')\n",
        "plt.xlabel('Credit Score')\n",
        "plt.ylabel('Density')\n",
        "plt.show()"
      ],
      "metadata": {
        "id": "rMje9YSCAcpg"
      },
      "execution_count": null,
      "outputs": []
    },
    {
      "cell_type": "code",
      "source": [
        "# 6. Explore the distribution of vehicle types in relation to the outcome\n",
        "plt.figure(figsize=(10,6))\n",
        "sns.countplot(data=data, x='TYPE_OF_VEHICLE', hue='OUTCOME')\n",
        "plt.title('Vehicle Type vs Outcome')\n",
        "plt.xlabel('Type of Vehicle')\n",
        "plt.ylabel('Count')\n",
        "plt.show()\n"
      ],
      "metadata": {
        "id": "0xMbKIl6Acsi"
      },
      "execution_count": null,
      "outputs": []
    },
    {
      "cell_type": "code",
      "source": [
        "# Driving Experience vs Outcome\n",
        "plt.figure(figsize=(10,6))\n",
        "sns.countplot(data=data, x='DRIVING_EXPERIENCE', hue='OUTCOME')\n",
        "plt.title('Driving Experience vs Outcome')\n",
        "plt.xlabel('Driving Experience')\n",
        "plt.ylabel('Count')\n",
        "plt.show()"
      ],
      "metadata": {
        "id": "EDj0cNtxCKSB"
      },
      "execution_count": null,
      "outputs": []
    },
    {
      "cell_type": "code",
      "source": [
        "# 7. Analyze the relationship between Annual Mileage and Outcome\n",
        "plt.figure(figsize=(8,6))\n",
        "sns.boxplot(data=data, x='OUTCOME', y='ANNUAL_MILEAGE')\n",
        "plt.title('Annual Mileage vs Outcome')\n",
        "plt.xlabel('Outcome')\n",
        "plt.ylabel('Annual Mileage')\n",
        "plt.show()\n"
      ],
      "metadata": {
        "id": "SgBVcHJ7qqly"
      },
      "execution_count": null,
      "outputs": []
    }
  ]
}